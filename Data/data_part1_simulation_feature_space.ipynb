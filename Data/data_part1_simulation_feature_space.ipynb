{
 "cells": [
  {
   "cell_type": "markdown",
   "metadata": {},
   "source": [
    "# Data Simulation - Part I: Feature Space"
   ]
  },
  {
   "cell_type": "code",
   "execution_count": 2,
   "metadata": {},
   "outputs": [],
   "source": [
    "##### Simulate Data for Reserve Calculation #####\n",
    "\n",
    "# Option practical: Age of contract is simulated as a random share of the respective duration\n",
    "# Option all-over: All contracts are simulated as random values on their Min-Max Range\n",
    "\n",
    "def data_simulation_features(A, B, c, N_contracts, Max_min, N_features=4, option = 'practical'):\n",
    "   \n",
    "    data = np.zeros([N_contracts,N_features])\n",
    "\n",
    "\n",
    "    # Use Sobol Sequence to optimize uniform coverage of multidimensional feature space\n",
    "    random.seed(42)\n",
    "    if option == 'practical':\n",
    "        data[:,0:-1] = sobol_seq.i4_sobol_generate(N_features-1,N_contracts) # simulate age_of_contract seperately, conditionally on the duration\n",
    "    elif option == 'all-over': # allows for irreasonable, i.e. matured contracts\n",
    "        data = sobol_seq.i4_sobol_generate(N_features,N_contracts)\n",
    "    else:\n",
    "        print('Option unknown!')\n",
    "        pass\n",
    "    \n",
    "    # Simulate initial ages of policyholders upon signing the contract\n",
    "    # Note: We first simulate the initial age at start of contract (-> use age_up = Max_min[0,1]-Max_min[2,0])\n",
    "    data[:,0] =(Max_min[0,0] + (Max_min[0,1]-Max_min[2,1]-Max_min[0,0])*data[:,0])\n",
    "\n",
    "    # simulate sums insured\n",
    "    data[:,1] = (Max_min[1,0]+(Max_min[1,1]-Max_min[1,0])*data[:,1])\n",
    "\n",
    "    # simulate duration\n",
    "    data[:,2] = (Max_min[2,0]+(Max_min[2,1]-Max_min[2,0])*data[:,2])\n",
    "    \n",
    "    if option == 'practical':\n",
    "        # simulate age of contract in relative terms\n",
    "        rnd = np.random.rand(N_contracts)\n",
    "        # random percentage of duration has passed; at least one remaining year of contract (hence dur - 1)\n",
    "        data[:,3] = rnd*(data[:,2]-1)         \n",
    "    elif option == 'all-over':\n",
    "        data[:,3] = (Max_min[3,0]+(Max_min[3,1]-Max_min[3,0])*data[:,3])\n",
    "    else:\n",
    "        print('Option unknown!')\n",
    "        pass\n",
    "    \n",
    "    # obtain current age of policyholder (initial age + age of contract)\n",
    "    data[:,0] = data[:,0] + data[:,3]\n",
    "    \n",
    "    # ceil data as integers\n",
    "    data = data.astype('int')\n",
    "    \n",
    "    \n",
    "    ### Lower-dimensional Datasets\n",
    "    data_age = data[:,0]\n",
    "    data_sum = data[:,1]\n",
    "    data_dur = data[:,2]\n",
    "    data_aoc = data[:,3];\n",
    "    \n",
    "    return [data, [data_age, data_sum, data_dur, data_aoc]]"
   ]
  }
 ],
 "metadata": {
  "kernelspec": {
   "display_name": "Python 3",
   "language": "python",
   "name": "python3"
  },
  "language_info": {
   "codemirror_mode": {
    "name": "ipython",
    "version": 3
   },
   "file_extension": ".py",
   "mimetype": "text/x-python",
   "name": "python",
   "nbconvert_exporter": "python",
   "pygments_lexer": "ipython3",
   "version": "3.6.8"
  }
 },
 "nbformat": 4,
 "nbformat_minor": 2
}
