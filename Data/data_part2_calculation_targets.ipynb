{
 "cells": [
  {
   "cell_type": "markdown",
   "metadata": {},
   "source": [
    "## Calculate Target Values"
   ]
  },
  {
   "cell_type": "code",
   "execution_count": 8,
   "metadata": {},
   "outputs": [],
   "source": [
    "def data_simulation_targets(data, dur_max,data_age=None, data_sum=None, data_dur=None, data_aoc=None, \n",
    "                            age_std=None, sum_std=None, dur_std=None, aoc_std=None, \n",
    "                            int_rate = 0.05, option_1dim= False, A=None, B=None, c= None):\n",
    "    # Initilize arrays\n",
    "    targets = np.zeros([N_contracts,dur_max +1] )\n",
    "    if option_1dim == False:    \n",
    "        targets_age, targets_sum, targets_dur, targets_aoc = np.zeros([N_contracts,dur_std+1]), np.zeros([N_contracts,dur_std+1]),np.zeros([N_contracts,dur_max+1]),np.zeros([N_contracts,dur_std+1])\n",
    "    \n",
    "    if option_1dim == False:\n",
    "        for i in range(N_contracts):\n",
    "            # Targets of full dimensional feature space\n",
    "            targets[i,0:max(data[i,2]-data[i,3]+1,0)] = get_termlife_reserve_profile(age_curr = data[i,0], \n",
    "                                                                     Sum_ins = data[i,1],duration= data[i,2],  \n",
    "                                                                     interest = int_rate, age_of_contract = data[i,3], \n",
    "                                                                 option_past=False)\n",
    "        \n",
    "            # Targets of projected feature space\n",
    "            targets_age[i,:] = get_termlife_reserve_profile(age_curr= data_age[i], Sum_ins = sum_std, duration = dur_std, \n",
    "                                                            age_of_contract = aoc_std,interest= int_rate,option_past=False)\n",
    "            targets_sum[i,:] = get_termlife_reserve_profile(age_curr= age_std, Sum_ins = data_sum[i], duration = dur_std, \n",
    "                                                            age_of_contract = aoc_std,interest= int_rate,option_past=False)\n",
    "            targets_dur[i,0:(data_dur[i]+1)] = get_termlife_reserve_profile(age_curr= age_std, Sum_ins = sum_std, \n",
    "                                duration = data_dur[i], age_of_contract = aoc_std, interest= int_rate,option_past=False)\n",
    "            targets_aoc[i,0:max(dur_std-data_aoc[i]+1,0)] = get_termlife_reserve_profile(age_curr= age_std, \n",
    "                                                     Sum_ins = sum_std, duration = dur_std, age_of_contract = data_aoc[i], \n",
    "                                                                             interest= int_rate,option_past=False)\n",
    "            return [targets, [targets_age, targets_sum, targets_dur, targets_aoc]]\n",
    "    else:\n",
    "        for i in range(N_contracts):\n",
    "            # Targets of full dimensional feature space\n",
    "            targets[i,0:max(data[i,2]-data[i,3]+1,0)] = get_termlife_reserve_profile(age_curr = data[i,0], \n",
    "                                                                     Sum_ins = data[i,1],duration= data[i,2],  \n",
    "                                                                     interest = int_rate, age_of_contract = data[i,3], \n",
    "                                                                 option_past=False, A=A, B=B,c=c)\n",
    "            return targets"
   ]
  },
  {
   "cell_type": "code",
   "execution_count": null,
   "metadata": {},
   "outputs": [],
   "source": []
  }
 ],
 "metadata": {
  "kernelspec": {
   "display_name": "Python 3",
   "language": "python",
   "name": "python3"
  },
  "language_info": {
   "codemirror_mode": {
    "name": "ipython",
    "version": 3
   },
   "file_extension": ".py",
   "mimetype": "text/x-python",
   "name": "python",
   "nbconvert_exporter": "python",
   "pygments_lexer": "ipython3",
   "version": "3.6.8"
  }
 },
 "nbformat": 4,
 "nbformat_minor": 2
}
