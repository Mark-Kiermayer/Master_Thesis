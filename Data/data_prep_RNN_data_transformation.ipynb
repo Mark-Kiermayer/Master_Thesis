{
 "cells": [
  {
   "cell_type": "markdown",
   "metadata": {},
   "source": [
    "### Transform Data to be a suitable Input to RNNS"
   ]
  },
  {
   "cell_type": "code",
   "execution_count": null,
   "metadata": {},
   "outputs": [],
   "source": [
    "# Modifify 1-dimensional age-data to be a suitable RNN input\n",
    "def rnn_age_transform_data(data, n,scale_up, scale_low =0, replication_type = 'repetitive'):\n",
    "    data_transformed = []\n",
    "    for i in range(len(data)):\n",
    "        if replication_type == 'adaptive': data_transformed.append(np.int_(np.linspace(data[i], data[i]+n, num =n+1))) # Version 1: Update Current Age\n",
    "        if replication_type == 'repetitive': data_transformed.append(np.repeat(2*(data[i]-age_low)/(age_up-age_low)-1,n+1)) # Version 2: Repetitive Input of Age\n",
    "\n",
    "    return np.asarray(data_transformed).reshape(len(data),n+1,1)"
   ]
  },
  {
   "cell_type": "code",
   "execution_count": 1,
   "metadata": {},
   "outputs": [],
   "source": [
    "# transform 4-dim feature data to RNN suitable input\n",
    "# This is a special case of the more general data_full_transform_test function.\n",
    "\n",
    "def data_full_transform(data, n_aim):\n",
    "    \n",
    "    n_features = data.shape[1]\n",
    "    n_len = data.shape[0]\n",
    "    data_new = []\n",
    "\n",
    "    # Aim: Transform n_len x n_features matrix to n_len x n_aim (=dur_max+1 or user-input) x n_features 3D-array\n",
    "    \n",
    "    for i in range(n_len):\n",
    "        step1 = np.tile(data[i,],(min(max(data[i,2]-data[i,3],0), n_aim),1)) # repeat input for rem. duration (limited by user input)\n",
    "        step2 = np.tile(np.repeat(-1,n_features),(max(n_aim-max(data[i,2]-data[i,3],0),0),1)) # fill up remaining length by -1's\n",
    "        data_new.append(np.concatenate((step1,step2)))\n",
    "        \n",
    "    return np.asarray(data_new).reshape(n_len,n_aim, n_features)"
   ]
  },
  {
   "cell_type": "code",
   "execution_count": 6,
   "metadata": {},
   "outputs": [],
   "source": [
    "# transform 4-dim feature data to RNN suitable input\n",
    "# input_type: 'raw' data or 'scaled' data\n",
    "# If input_type = 'scaled': We need Max_min to rescale duration and age_of_contract to know how often to repeat the input\n",
    "\n",
    "def data_full_transform_test(data, n_aim, input_type = 'raw', Max_min = None):\n",
    "    \n",
    "    n_features = data.shape[1]\n",
    "    n_len = data.shape[0]\n",
    "    data_new = []\n",
    "\n",
    "    # Aim: Transform n_len x n_features matrix to n_len x n_aim (=dur_max+1 or user-input) x n_features 3D-array\n",
    "    \n",
    "    for i in range(n_len):\n",
    "        if input_type == 'raw': # alias known as adjusted input\n",
    "            # repeat input for rem. duration (limited by user input)\n",
    "            step1 = np.tile(data[i,],(min(data[i,2]-data[i,3], n_aim),1)) \n",
    "            # fill up remaining length by -1's\n",
    "            step2 = np.tile(np.repeat(-1,n_features),(max(n_aim-data[i,2]+data[i,3],0),1)) \n",
    "        elif input_type == 'scaled':\n",
    "            dur = (data[i,2]+1)/2*(Max_min[2,1]-Max_min[2,0])+Max_min[2,0]\n",
    "            aoc = (data[i,3]+1)/2*(Max_min[3,1]-Max_min[3,0])+Max_min[3,0]\n",
    "            # repeat input for rem. duration (limited by user input)\n",
    "            step1 = np.tile(data[i,],(min(int(dur-aoc), n_aim),1)) \n",
    "            # fill up remaining length by -1's\n",
    "            step2 = np.tile(np.repeat(-1,n_features),(max(n_aim-int(dur-aoc),0),1))\n",
    "        elif input_type == 'plain':\n",
    "            step1 = np.tile(data[i,],n_aim)\n",
    "            step2 = None\n",
    "        else:\n",
    "            print('Unknown input_type.')\n",
    "            pass\n",
    "        if input_type == 'plain':\n",
    "            data_new.append(step1)\n",
    "        else:\n",
    "            data_new.append(np.concatenate((step1,step2)))\n",
    "        \n",
    "    return np.asarray(data_new).reshape(n_len,n_aim, n_features)"
   ]
  }
 ],
 "metadata": {
  "kernelspec": {
   "display_name": "Python 3",
   "language": "python",
   "name": "python3"
  },
  "language_info": {
   "codemirror_mode": {
    "name": "ipython",
    "version": 3
   },
   "file_extension": ".py",
   "mimetype": "text/x-python",
   "name": "python",
   "nbconvert_exporter": "python",
   "pygments_lexer": "ipython3",
   "version": "3.6.8"
  }
 },
 "nbformat": 4,
 "nbformat_minor": 2
}
