{
 "cells": [
  {
   "cell_type": "markdown",
   "metadata": {},
   "source": [
    "## Data Preparation, i.e. Scaling and Splitting (Training vs Test Data)"
   ]
  },
  {
   "cell_type": "code",
   "execution_count": 1,
   "metadata": {},
   "outputs": [],
   "source": [
    "# Scale Data with features to a [-1,+1] range\n",
    "# option standard: Scale them w.r.t their range\n",
    "# option conditional: proceed as for option standard with exception of feature age of contract. \n",
    "##  age of contract will we scaled relatively to duration\n",
    "\n",
    "def data_prep_feautures_scale(data, Max_min, option = 'standard', option_1dim = True):\n",
    "\n",
    "    #### Scale feature components to [-1,+1]\n",
    "    # Max_min: Row 0 -> Minima of features, Row 1 -> Maxima of features\n",
    "    data_sc = np.zeros(shape = data.shape)\n",
    "    if option == 'standard':\n",
    "        data_sc = 2*(data- Max_min[:,0])/(Max_min[:,1]-Max_min[:,0]) -1\n",
    "    elif option == 'conditional':\n",
    "        data_sc[:,0:-1] = 2*(data[:,0:-1]- Max_min[0:-1,0])/(Max_min[0:-1,1]-Max_min[0:-1,0]) -1\n",
    "        data_sc[:,-1] = 2*data[:,-1]/data[:,-2] -1\n",
    "    \n",
    "    if option_1dim ==True:\n",
    "        data_age_sc = data_sc[:,0]\n",
    "        data_sum_sc = data_sc[:,1]\n",
    "        data_dur_sc = data_sc[:,2]\n",
    "\n",
    "        # Scale w.r.t range (even for option conditional) since a conditional scaling will make the 1-dimensional\n",
    "        # invalid (since factor this relates to, i.e. duration, not given in projection)\n",
    "        data_aoc_sc = 2*(data[:,3]- Max_min[3,0])/(Max_min[3,1]-Max_min[3,0]) -1\n",
    "\n",
    "        return data_sc, data_age_sc, data_sum_sc, data_dur_sc, data_aoc_sc\n",
    "    else:\n",
    "        return data_sc"
   ]
  },
  {
   "cell_type": "code",
   "execution_count": 6,
   "metadata": {},
   "outputs": [],
   "source": [
    "# Reverse the scaling procedure, to have nicely interpretable values\n",
    "\n",
    "def data_re_transform_features(data_scaled, Max_min, option = 'standard'):\n",
    "    \n",
    "    #### Transform feature components from [-1,+1] to their previous range\n",
    "    # Max_min: Row 0 -> Minima of features, Row 1 -> Maxima of features\n",
    "    if option == 'standard':\n",
    "        data_previous = (data_scaled+1)/2*(Max_min[:,1]-Max_min[:,0])+Max_min[:,0]\n",
    "    elif option == 'conditional':\n",
    "        data_previous = np.zeros(shape = data_scaled.shape)\n",
    "        data_previous[:,0:-1] = (data_scaled[:,0:-1]+1)/2*(Max_min[0:-1,1]-Max_min[0:-1,0])+Max_min[0:-1,0]\n",
    "        # Re_transform 'Age of contract' separately\n",
    "        data_previous[:,-1] = (data_scaled[:,-1]+1)/2*data_previous[:,-2]\n",
    "    \n",
    "    return data_previous"
   ]
  },
  {
   "cell_type": "code",
   "execution_count": 8,
   "metadata": {},
   "outputs": [],
   "source": [
    "# Scale target values\n",
    "# We check this approach in our analysis, but drop it due to inefficency and resort in a internal scaling layer.\n",
    "def data_prep_targets_scale(value, scale_up, scale_low =0, logarithmic = False):\n",
    "        if logarithmic == False:\n",
    "            return 2*(value-scale_low)/(scale_up-scale_low)-1\n",
    "        else:\n",
    "            return 2*(np.log(1+value)-np.log(1+scale_low))/(np.log(1+scale_up)-np.log(1+scale_low))-1"
   ]
  },
  {
   "cell_type": "code",
   "execution_count": 7,
   "metadata": {},
   "outputs": [],
   "source": [
    "# Split data w.r.t. a given share/ ratio.\n",
    "def data_prep_split(data, split_ratio):\n",
    "\n",
    "    #### Split (raw and scaled) Data in Training and Test Set ####\n",
    "\n",
    "    N_train = int(split_ratio*N_contracts)       \n",
    "    \n",
    "    return data[0:N_train,],data[N_train:,]"
   ]
  },
  {
   "cell_type": "code",
   "execution_count": 3,
   "metadata": {},
   "outputs": [],
   "source": [
    "# Method to scale 3-dimensional data (which is valid as input to RNN)\n",
    "# dimensions relate to 'record','timestep', 'feature'\n",
    "\n",
    "def data_prep_rnn_scale(data_rnn, Max_min, default_value = -5, option = 'standard'):\n",
    "    \n",
    "    data_sc = np.copy(data_rnn.astype('double'))\n",
    "    \n",
    "    # Scale w.r.t. Age\n",
    "    data_sc[:,:,0] = 2*(data_sc[:,:,0]-Max_min[0,0])/(Max_min[0,1]-Max_min[0,0])-1\n",
    "    #contract_matured_age = data_sc[:,:,0]== data_sc[:,:,0].min()\n",
    "    #data_rnn_sc[contract_matured_age,0] = default_value\n",
    "    # Scale w.r.t. Sum Insured\n",
    "    data_sc[:,:,1] = 2*(data_sc[:,:,1]-Max_min[1,0])/(Max_min[1,1]-Max_min[1,0])-1\n",
    "    #contract_matured_sum = data_sc[:,:,1]== data_sc[:,:,1].min()\n",
    "    #data_sc[contract_matured_sum,1] = default_value\n",
    "    # Scale w.r.t. Duration\n",
    "    data_sc[:,:,2] = 2*(data_sc[:,:,2]-Max_min[2,0])/(Max_min[2,1]-Max_min[2,0])-1\n",
    "    #contract_matured_dur = data_rnn_sc[:,:,2]== data_sc[:,:,2].min()\n",
    "    #data_sc[contract_matured_dur,2] = default_value\n",
    "    # Scale w.r.t. Age of Contract\n",
    "    if option == 'standard':\n",
    "        data_sc[:,:,3] = 2*(data_sc[:,:,3]-Max_min[3,0])/(Max_min[3,1]-Max_min[3,0])-1\n",
    "    elif option == 'conditional':\n",
    "        data_sc[:,:,3] = 2*(data_rnn[:,:,3])/(data_rnn[:,:,2])-1\n",
    "    else:\n",
    "        print('Option unknown.')\n",
    "        pass\n",
    "    #contract_matured_aoc = data_sc[:,:,3]== data_sc[:,:,3].min()\n",
    "    \n",
    "    # set default value for time point when contract has matured\n",
    "    contract_matured = (data_rnn[:,:,:]==-1)\n",
    "    data_sc[contract_matured] = default_value\n",
    "    \n",
    "    return data_sc"
   ]
  }
 ],
 "metadata": {
  "kernelspec": {
   "display_name": "Python 3",
   "language": "python",
   "name": "python3"
  },
  "language_info": {
   "codemirror_mode": {
    "name": "ipython",
    "version": 3
   },
   "file_extension": ".py",
   "mimetype": "text/x-python",
   "name": "python",
   "nbconvert_exporter": "python",
   "pygments_lexer": "ipython3",
   "version": "3.6.8"
  }
 },
 "nbformat": 4,
 "nbformat_minor": 2
}
