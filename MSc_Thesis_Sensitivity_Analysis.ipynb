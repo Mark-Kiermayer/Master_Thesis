{
 "cells": [
  {
   "cell_type": "markdown",
   "metadata": {},
   "source": [
    "# Section 0 - Import Tools"
   ]
  },
  {
   "cell_type": "markdown",
   "metadata": {},
   "source": [
    "## 0.1. Import Packages"
   ]
  },
  {
   "cell_type": "code",
   "execution_count": 2,
   "metadata": {},
   "outputs": [],
   "source": [
    "import pandas as pd\n",
    "import numpy as np\n",
    "import seaborn as sns\n",
    "# import for auto-suggestions for objects\n",
    "import pydot\n",
    "import pyreadline\n",
    "# import for sigmoid-fct.\n",
    "import scipy\n",
    "import scipy.special\n",
    "from scipy import stats\n",
    "from scipy.stats import gamma, truncnorm, describe\n",
    "import sklearn\n",
    "from sklearn import preprocessing, cluster\n",
    "from sklearn.preprocessing import minmax_scale\n",
    "from sklearn.model_selection import KFold, StratifiedKFold, GridSearchCV\n",
    "# import for plotting\n",
    "import matplotlib.pyplot as plt\n",
    "%matplotlib inline\n",
    "import random\n",
    "import time\n",
    "import decimal\n",
    "import json # to save history objects of keras models\n",
    "import pickle # to save general objects, e.g. K-Means Clustering Object\n",
    "import os"
   ]
  },
  {
   "cell_type": "code",
   "execution_count": 3,
   "metadata": {},
   "outputs": [
    {
     "name": "stderr",
     "output_type": "stream",
     "text": [
      "Using TensorFlow backend.\n"
     ]
    }
   ],
   "source": [
    "import tensorflow as tf\n",
    "import keras\n",
    "from keras import backend as K\n",
    "from tensorflow.keras import layers\n",
    "from keras.models import Sequential, Model, load_model\n",
    "from keras.optimizers import Adam, SGD, Adadelta\n",
    "from keras.layers import Dense, Flatten, Dropout, multiply, dot, Activation, ThresholdedReLU, RepeatVector, subtract, Reshape\n",
    "from keras.layers import RNN, SimpleRNN,GRU, LSTM,CuDNNLSTM, Reshape, Lambda, InputLayer, Input, BatchNormalization, Average, average\n",
    "from keras.layers import advanced_activations as adv_act\n",
    "from keras.callbacks import ModelCheckpoint, TensorBoard, EarlyStopping\n",
    "from keras.utils import plot_model, print_summary\n",
    "from keras.wrappers.scikit_learn import KerasClassifier, KerasRegressor\n",
    "import seaborn as sb\n",
    "import sobol_seq"
   ]
  },
  {
   "cell_type": "markdown",
   "metadata": {},
   "source": [
    "## 0.2. Import customized functions"
   ]
  },
  {
   "cell_type": "code",
   "execution_count": 4,
   "metadata": {},
   "outputs": [],
   "source": [
    "# Functions\n",
    "%run functions/actuarial_functions.ipynb\n",
    "%run functions/rnn_functions.ipynb\n",
    "%run functions/visualization_functions.ipynb\n",
    "%run functions/statistical_analysis_functions.ipynb\n",
    "%run functions/clustering.ipynb"
   ]
  },
  {
   "cell_type": "code",
   "execution_count": 5,
   "metadata": {},
   "outputs": [],
   "source": [
    "# Simulation of Data&Targets\n",
    "%run Data/data_part1_simulation_feature_space.ipynb\n",
    "%run Data/data_part2_calculation_targets.ipynb"
   ]
  },
  {
   "cell_type": "code",
   "execution_count": 6,
   "metadata": {},
   "outputs": [],
   "source": [
    "# Data Preparation\n",
    "%run Data/data_prep_General.ipynb\n",
    "%run Data/data_prep_RNN_data_transformation.ipynb"
   ]
  },
  {
   "cell_type": "code",
   "execution_count": 7,
   "metadata": {},
   "outputs": [],
   "source": [
    "# Single-dimensional data analysis\n",
    "%run data_analysis_single_dimension/models_1dim_FFN.ipynb"
   ]
  },
  {
   "cell_type": "markdown",
   "metadata": {},
   "source": [
    "# Section 1 - Global Parameters"
   ]
  },
  {
   "cell_type": "code",
   "execution_count": 141,
   "metadata": {},
   "outputs": [],
   "source": [
    "# Makeham mortality model\n",
    "A= 0.00022\n",
    "B=2.7*10**(-6)\n",
    "c=1.124\n",
    "int_rate = 0.05 # fixed for now\n",
    "#age_max = 131\n",
    "# Portfolio Details\n",
    "N_contracts = 100000 # adjustable\n",
    "input_used = ['age_start', 'Sum_ins', 'duration', 'age_of_contract']\n",
    "n_in = len(input_used)\n",
    "\n",
    "# Standard values of features for projections\n",
    "age_std = 40\n",
    "sum_std = 100000\n",
    "dur_std = 20\n",
    "aoc_std = 0\n",
    "\n",
    "Max_min = np.zeros([n_in,2])\n",
    "age_low, age_up = 25, 67\n",
    "sum_min, sum_max = 1000, 1000000\n",
    "dur_min, dur_max = 2, 40\n",
    "aoc_min, aoc_max = 0, dur_max-1\n",
    "\n",
    "# zero-padded output/ length of later targets\n",
    "n_output = dur_max +1\n",
    "\n",
    "# Matrix Version of previous upper/ lower bounds on features\n",
    "Max_min = np.array([age_low,age_up+dur_max,sum_min, sum_max, dur_min, dur_max, aoc_min, aoc_max], dtype = 'int').reshape(n_in,2)\n",
    "\n",
    "# Split ration training and test data\n",
    "ratio_tr_tst = 0.7\n",
    "N_train = int(ratio_tr_tst*N_contracts)\n",
    "\n",
    "# share of validation data\n",
    "val_share = 0.25\n",
    "\n",
    "# Default value for RNN-data replication\n",
    "matured_default_value = -5\n",
    "\n",
    "# current directory for saving issues\n",
    "wd_sensis = r\"C:\\Users\\mark.kiermayer\\Documents\\Python Scripts\\Master Thesis - Code\\checkpoints\\Sensitivities\"\n",
    "# dummy if saved models should be loaded (TRUE) or the all models should be recalculated\n",
    "dummy_load_saved_models = True\n",
    "\n",
    "# Dataframe representation\n",
    "pd.set_option('precision', 2)"
   ]
  },
  {
   "cell_type": "code",
   "execution_count": 142,
   "metadata": {},
   "outputs": [],
   "source": [
    "# Sensitivity Analysis for following values\n",
    "interest_rate_lst = [0.005,0.02]\n",
    "A_lst = [0.0001, 0.02]\n",
    "B_lst = [2.7*10**(-5),2.7*10**(-6),2.7*10**(-8)]\n",
    "c_lst = [1.1, 1.24, 1.2]\n",
    "\n",
    "sensi_lst = [[0.02,0.00022,2.7*10**(-6),1.124],[0.005,0.00022,2.7*10**(-6),1.124],\n",
    "             [0.05,0.02,2.7*10**(-8),1.2], [0.05,0.02,2.7*10**(-5),1.1]]"
   ]
  },
  {
   "cell_type": "code",
   "execution_count": 143,
   "metadata": {},
   "outputs": [
    {
     "data": {
      "text/html": [
       "<div>\n",
       "<style scoped>\n",
       "    .dataframe tbody tr th:only-of-type {\n",
       "        vertical-align: middle;\n",
       "    }\n",
       "\n",
       "    .dataframe tbody tr th {\n",
       "        vertical-align: top;\n",
       "    }\n",
       "\n",
       "    .dataframe thead th {\n",
       "        text-align: right;\n",
       "    }\n",
       "</style>\n",
       "<table border=\"1\" class=\"dataframe\">\n",
       "  <thead>\n",
       "    <tr style=\"text-align: right;\">\n",
       "      <th></th>\n",
       "      <th>i</th>\n",
       "      <th>A</th>\n",
       "      <th>B</th>\n",
       "      <th>c</th>\n",
       "    </tr>\n",
       "  </thead>\n",
       "  <tbody>\n",
       "    <tr>\n",
       "      <th>Scenario 1</th>\n",
       "      <td>2.00e-02</td>\n",
       "      <td>2.20e-04</td>\n",
       "      <td>2.70e-06</td>\n",
       "      <td>1.12</td>\n",
       "    </tr>\n",
       "    <tr>\n",
       "      <th>Scenario 2</th>\n",
       "      <td>5.00e-03</td>\n",
       "      <td>2.20e-04</td>\n",
       "      <td>2.70e-06</td>\n",
       "      <td>1.12</td>\n",
       "    </tr>\n",
       "    <tr>\n",
       "      <th>Scenario 3</th>\n",
       "      <td>5.00e-02</td>\n",
       "      <td>2.00e-02</td>\n",
       "      <td>2.70e-08</td>\n",
       "      <td>1.20</td>\n",
       "    </tr>\n",
       "    <tr>\n",
       "      <th>Scenario 4</th>\n",
       "      <td>5.00e-02</td>\n",
       "      <td>2.00e-02</td>\n",
       "      <td>2.70e-05</td>\n",
       "      <td>1.10</td>\n",
       "    </tr>\n",
       "  </tbody>\n",
       "</table>\n",
       "</div>"
      ],
      "text/plain": [
       "                   i         A         B     c\n",
       "Scenario 1  2.00e-02  2.20e-04  2.70e-06  1.12\n",
       "Scenario 2  5.00e-03  2.20e-04  2.70e-06  1.12\n",
       "Scenario 3  5.00e-02  2.00e-02  2.70e-08  1.20\n",
       "Scenario 4  5.00e-02  2.00e-02  2.70e-05  1.10"
      ]
     },
     "execution_count": 143,
     "metadata": {},
     "output_type": "execute_result"
    }
   ],
   "source": [
    "table_sensi = pd.DataFrame(data = None, index = None, columns=['i', 'A','B','c'])\n",
    "for i in range(len(sensi_lst)):\n",
    "    table_sensi.loc['Scenario {}'.format(i+1)]=sensi_lst[i]\n",
    "    \n",
    "table_sensi"
   ]
  },
  {
   "cell_type": "code",
   "execution_count": 144,
   "metadata": {},
   "outputs": [],
   "source": [
    "#for i in interest_rate_lst:\n",
    "#    int_rate = i\n",
    "#    for a in A_lst:\n",
    "#        A=a\n",
    "#        for t in range(3):\n",
    "#            B,c = B_lst[t], c_lst[t]\n",
    "\n",
    "for k in range(len(sensi_lst)):\n",
    "    int_rate = sensi_lst[k][0]\n",
    "    A = sensi_lst[k][1]\n",
    "    B = sensi_lst[k][2]\n",
    "    c = sensi_lst[k][3]\n",
    "\n",
    "    # Section 2 - Data\n",
    "\n",
    "    ## 2.1. Simulation of feature variables\n",
    "\n",
    "    random.seed(42)\n",
    "    data_part1 = data_simulation_features(A, B, c, N_contracts, Max_min)\n",
    "\n",
    "    # data for full dimension\n",
    "    data = data_part1[0]\n",
    "\n",
    "    ## 2.2. Calculation of Target Values\n",
    "\n",
    "    # Create Targets\n",
    "    targets = np.zeros([N_contracts,dur_max +1] )\n",
    "\n",
    "    for i in range(N_contracts):\n",
    "    # Targets of full dimensional feature space\n",
    "        targets[i,0:max(data[i,2]-data[i,3]+1,0)] = get_termlife_reserve_profile(age_curr = data[i,0], \n",
    "                                                             Sum_ins = data[i,1],duration= data[i,2],  \n",
    "                                                             interest = int_rate, \n",
    "                                                             age_of_contract = data[i,3], \n",
    "                                                             option_past=False, A=A,B=B,c=c)\n",
    "\n",
    "\n",
    "    ## 2.3. Data Preparation\n",
    "\n",
    "    ### 2.3.1. Scaling\n",
    "\n",
    "    ## Parameters for scaling procedure of targets\n",
    "    V_max = get_termlife_reserve_profile(age_curr=age_up, Sum_ins = sum_max, duration=dur_max, \n",
    "                                                interest = int_rate).max()\n",
    "    V_min = get_termlife_reserve_profile(age_curr=age_low, Sum_ins = sum_min, duration=dur_min, \n",
    "                                         interest = int_rate).min()\n",
    "    data_sc = data_prep_feautures_scale(data, Max_min, option = 'conditional', option_1dim = False)\n",
    "    data_train_sc, data_test_sc = data_prep_split(data_sc, ratio_tr_tst)\n",
    "\n",
    "    ### 2.3.2. Split (raw and scaled) Data in Training and Test Set\n",
    "\n",
    "    targets_train, targets_test= data_prep_split(targets,ratio_tr_tst)\n",
    "\n",
    "\n",
    "    # Transform data to plain, 3-dim input without default value\n",
    "\n",
    "    data_plain_sc = data_full_transform_test(data = data_sc, n_aim = n_output, input_type= 'plain')\n",
    "    data_plain_train_sc = data_full_transform_test(data = data_train_sc, n_aim = n_output, \n",
    "                                                   input_type= 'plain')\n",
    "    data_plain_test_sc = data_full_transform_test(data = data_test_sc, n_aim = n_output, \n",
    "                                                  input_type= 'plain')\n",
    "\n",
    "    # save data\n",
    "    cache = [[data_plain_train_sc, data_plain_test_sc], [targets_train,targets_test], \n",
    "             [int_rate,A,B,c], [V_min,V_max]]\n",
    "    with open(wd_sensis+r'\\setting_{}'.format(k)+r'\\data_int={}_A={}_B={}_c={}.pkl'.format(int_rate,A,B,c),\n",
    "              'wb') as output:\n",
    "        pickle.dump(cache, output, pickle.HIGHEST_PROTOCOL)\n",
    "\n"
   ]
  },
  {
   "cell_type": "markdown",
   "metadata": {},
   "source": [
    "# Section 3: Reserve Replication, Single Contract Basis"
   ]
  },
  {
   "cell_type": "markdown",
   "metadata": {},
   "source": [
    "## 3.3. Ensemble Method for Quantitative Models"
   ]
  },
  {
   "cell_type": "markdown",
   "metadata": {},
   "source": [
    "### Model Input: 'Plain'"
   ]
  },
  {
   "cell_type": "code",
   "execution_count": 148,
   "metadata": {},
   "outputs": [],
   "source": [
    "N_epochs_ensemble = 300\n",
    "n_timesteps, n_features, n_output = dur_max+1,n_in, dur_max+1\n",
    "INPUT = Input(shape=(n_timesteps,n_features), name = 'Input')\n",
    "dummy_load_saved_models_ensembles=True\n",
    "N_ensembles = 5"
   ]
  },
  {
   "cell_type": "code",
   "execution_count": 187,
   "metadata": {
    "scrolled": true
   },
   "outputs": [
    {
     "name": "stdout",
     "output_type": "stream",
     "text": [
      "0\n",
      "1\n",
      "2\n",
      "3\n"
     ]
    }
   ],
   "source": [
    "#count = 0\n",
    "#for i in interest_rate_lst:\n",
    "#    int_rate = i\n",
    "#    for a in A_lst:\n",
    "#        A=a\n",
    "#        for t in range(len(B_lst)):\n",
    "#            B,c = B_lst[t], c_lst[t]\n",
    "\n",
    "for k in range(len(sensi_lst)):\n",
    "    int_rate = sensi_lst[k][0]\n",
    "    A = sensi_lst[k][1]\n",
    "    B = sensi_lst[k][2]\n",
    "    c = sensi_lst[k][3]\n",
    "\n",
    "    optimal_weights_loaded = False\n",
    "    \n",
    "    # import file\n",
    "    with open(wd_sensis + r'\\setting_{}\\data_int={}_A={}_B={}_c={}.pkl'.format(k,int_rate,A,B,c), 'rb') as input:\n",
    "        cache = pickle.load(input)\n",
    "    \n",
    "    # extract data\n",
    "    data_plain_train_sc, data_plain_test_sc = cache[0][0], cache[0][1]\n",
    "    targets_train, targets_test = cache[1][0], cache[1][1]\n",
    "    V_max = cache[3][1]\n",
    "\n",
    "    # Create Multiple RNNs with identical configuration\n",
    "    models_sensi = create_multiple_rnn_models(number = N_ensembles, model_input = INPUT,\n",
    "                                              nodes= [n_output], \n",
    "                                        n_output=n_output, final_dense_layer = True, \n",
    "                                              dense_act_fct= 'tanh',\n",
    "                                        optimizer_type='adam',\n",
    "                                        loss_type='mse', metric_type='mae', dropout_option=False, \n",
    "                                        dropout_share=[0.2,0.2], lambda_layer = True, \n",
    "                                              lambda_scale =V_max, \n",
    "                                        log_scale=True)\n",
    "\n",
    "    # Either load existing parameters\n",
    "    if os.path.isfile(wd_sensis+r'\\setting_{}\\model_0.h5'.format(k))&dummy_load_saved_models_ensembles:\n",
    "        # load model weights\n",
    "        for l in range(N_ensembles):\n",
    "            models_sensi[l].load_weights(wd_sensis+r'\\setting_{}\\model_{}.h5'.format(k,l))\n",
    "        optimal_weights_loaded = True\n",
    "\n",
    "    # Or train model    \n",
    "    else:\n",
    "        models_sensi, hist_sensi = train_individual_ensembles(models_sensi, data_plain_train_sc, \n",
    "                                                              targets_train, \n",
    "                                                    n_epochs= N_epochs_ensemble, \n",
    "                                                    path =wd_sensis +r'\\setting_{}'.format(k))\n",
    "        # Save Model (and History) is integrated in function 'train_individual_ensembles'\n",
    "\n",
    "    # Unless optimal weights have been imported a statistical analysis in meaningless\n",
    "    if optimal_weights_loaded == True: \n",
    "        print(k)\n",
    "        # combine models to a single model using an ensemble approach (no qualitative Model included)\n",
    "        ensemble_sensi = combine_models(input_layer=INPUT, n_ensembles= len(models_sensi), \n",
    "                                              load_weights= True, \n",
    "                                        weights_ensembles = multiple_models_get_weights(models_sensi), \n",
    "                                              scale = V_max,\n",
    "                                       LSTM_nodes= [n_output], dense_act_fct= 'tanh')\n",
    "\n",
    "\n",
    "\n",
    "        #Statistics, using $e_t$\n",
    "\n",
    "        # Relate following relative values to absolute Policy Values\n",
    "        interval_lst = [0,0.001, 0.005, 0.01,0.2,0.4,0.6,0.8,0.9,1]\n",
    "        PV_interval =  V_max*np.asarray([0.001, 0.005, 0.01,0.2,0.4,0.6,0.8,0.9,1])\n",
    "        df_columns = [None]*(len(interval_lst)-1)\n",
    "        for i in range(1,len(interval_lst)):\n",
    "            df_columns[i-1] = '{}'.format(interval_lst[i])\n",
    "        df = pd.DataFrame(data = None, index = None, columns = df_columns)\n",
    "        df.loc['PV'] = PV_interval\n",
    "        # determine distribution of PVs\n",
    "        targets_max = targets_test.max(axis=1)\n",
    "        dist_PV = [None]*len(PV_interval)\n",
    "        for i in range(len(PV_interval)):\n",
    "            dist_PV[i] = ((targets_max>interval_lst[i]*V_max)&(targets_max<=interval_lst[i+1]*V_max)).sum()/targets_max.shape[0]\n",
    "        \n",
    "        df.loc['[%]'] = dist_PV\n",
    "\n",
    "        stat_EP_0 = model_examine_indivual_fit(model = ensemble_sensi, data = data_plain_test_sc, \n",
    "                                   targets = targets_test, output_option = 'statistic', PV_max= V_max)\n",
    "\n",
    "        ## save results\n",
    "        with open(wd_sensis +r'\\setting_{}'.format(k)+r'\\results.pkl', 'wb') as output:\n",
    "            pickle.dump([stat_EP_0,df, int_rate,A,B,c], output, pickle.HIGHEST_PROTOCOL)\n"
   ]
  },
  {
   "cell_type": "code",
   "execution_count": 183,
   "metadata": {},
   "outputs": [],
   "source": [
    "# determine distribution of PVs\n",
    "targets_max = targets_test.max(axis=1)\n",
    "dist_PV = [None]*len(PV_interval)\n",
    "for i in range(len(PV_interval)):\n",
    "    dist_PV[i] = ((targets_max>interval_lst[i]*V_max)&(targets_max<=interval_lst[i+1]*V_max)).sum()/targets_max.shape[0]\n",
    "\n",
    "df.loc['[%]'] = dist_PV"
   ]
  },
  {
   "cell_type": "code",
   "execution_count": 185,
   "metadata": {},
   "outputs": [
    {
     "data": {
      "text/html": [
       "<div>\n",
       "<style scoped>\n",
       "    .dataframe tbody tr th:only-of-type {\n",
       "        vertical-align: middle;\n",
       "    }\n",
       "\n",
       "    .dataframe tbody tr th {\n",
       "        vertical-align: top;\n",
       "    }\n",
       "\n",
       "    .dataframe thead th {\n",
       "        text-align: right;\n",
       "    }\n",
       "</style>\n",
       "<table border=\"1\" class=\"dataframe\">\n",
       "  <thead>\n",
       "    <tr style=\"text-align: right;\">\n",
       "      <th></th>\n",
       "      <th>0.001</th>\n",
       "      <th>0.005</th>\n",
       "      <th>0.01</th>\n",
       "      <th>0.2</th>\n",
       "      <th>0.4</th>\n",
       "      <th>0.6</th>\n",
       "      <th>0.8</th>\n",
       "      <th>0.9</th>\n",
       "      <th>1</th>\n",
       "    </tr>\n",
       "  </thead>\n",
       "  <tbody>\n",
       "    <tr>\n",
       "      <th>PV</th>\n",
       "      <td>776.52</td>\n",
       "      <td>3882.61</td>\n",
       "      <td>7765.21</td>\n",
       "      <td>155304.21</td>\n",
       "      <td>310608.43</td>\n",
       "      <td>465912.64</td>\n",
       "      <td>6.21e+05</td>\n",
       "      <td>6.99e+05</td>\n",
       "      <td>776521.07</td>\n",
       "    </tr>\n",
       "    <tr>\n",
       "      <th>[%]</th>\n",
       "      <td>0.20</td>\n",
       "      <td>0.18</td>\n",
       "      <td>0.10</td>\n",
       "      <td>0.44</td>\n",
       "      <td>0.05</td>\n",
       "      <td>0.02</td>\n",
       "      <td>4.83e-03</td>\n",
       "      <td>4.67e-04</td>\n",
       "      <td>0.00</td>\n",
       "    </tr>\n",
       "  </tbody>\n",
       "</table>\n",
       "</div>"
      ],
      "text/plain": [
       "      0.001    0.005     0.01        0.2        0.4        0.6       0.8  \\\n",
       "PV   776.52  3882.61  7765.21  155304.21  310608.43  465912.64  6.21e+05   \n",
       "[%]    0.20     0.18     0.10       0.44       0.05       0.02  4.83e-03   \n",
       "\n",
       "          0.9          1  \n",
       "PV   6.99e+05  776521.07  \n",
       "[%]  4.67e-04       0.00  "
      ]
     },
     "execution_count": 185,
     "metadata": {},
     "output_type": "execute_result"
    }
   ],
   "source": [
    "df"
   ]
  },
  {
   "cell_type": "code",
   "execution_count": 186,
   "metadata": {},
   "outputs": [
    {
     "data": {
      "text/html": [
       "<div>\n",
       "<style scoped>\n",
       "    .dataframe tbody tr th:only-of-type {\n",
       "        vertical-align: middle;\n",
       "    }\n",
       "\n",
       "    .dataframe tbody tr th {\n",
       "        vertical-align: top;\n",
       "    }\n",
       "\n",
       "    .dataframe thead th {\n",
       "        text-align: right;\n",
       "    }\n",
       "</style>\n",
       "<table border=\"1\" class=\"dataframe\">\n",
       "  <thead>\n",
       "    <tr style=\"text-align: right;\">\n",
       "      <th></th>\n",
       "      <th>0-0.001</th>\n",
       "      <th>0.001-0.005</th>\n",
       "      <th>0.005-0.01</th>\n",
       "      <th>0.01-0.2</th>\n",
       "      <th>0.2-0.4</th>\n",
       "      <th>0.4-0.6</th>\n",
       "      <th>0.6-0.8</th>\n",
       "      <th>0.8-0.9</th>\n",
       "      <th>0.9-1</th>\n",
       "    </tr>\n",
       "  </thead>\n",
       "  <tbody>\n",
       "    <tr>\n",
       "      <th>Mean re${}_t$</th>\n",
       "      <td>0.93</td>\n",
       "      <td>0.01</td>\n",
       "      <td>-0.02</td>\n",
       "      <td>-0.01</td>\n",
       "      <td>-3.41e-03</td>\n",
       "      <td>-1.32e-03</td>\n",
       "      <td>-3.46e-04</td>\n",
       "      <td>-2.55e-03</td>\n",
       "      <td>-2.92e-03</td>\n",
       "    </tr>\n",
       "    <tr>\n",
       "      <th>Min re${}_t$</th>\n",
       "      <td>-0.38</td>\n",
       "      <td>-0.43</td>\n",
       "      <td>-0.25</td>\n",
       "      <td>-0.14</td>\n",
       "      <td>-5.13e-02</td>\n",
       "      <td>-2.64e-02</td>\n",
       "      <td>-2.25e-02</td>\n",
       "      <td>-1.48e-02</td>\n",
       "      <td>-1.16e-02</td>\n",
       "    </tr>\n",
       "    <tr>\n",
       "      <th>Max re${}_t$</th>\n",
       "      <td>84.88</td>\n",
       "      <td>7.25</td>\n",
       "      <td>0.42</td>\n",
       "      <td>0.26</td>\n",
       "      <td>4.67e-02</td>\n",
       "      <td>2.46e-02</td>\n",
       "      <td>1.98e-02</td>\n",
       "      <td>1.46e-02</td>\n",
       "      <td>6.58e-03</td>\n",
       "    </tr>\n",
       "  </tbody>\n",
       "</table>\n",
       "</div>"
      ],
      "text/plain": [
       "               0-0.001  0.001-0.005  0.005-0.01  0.01-0.2   0.2-0.4   0.4-0.6  \\\n",
       "Mean re${}_t$     0.93         0.01       -0.02     -0.01 -3.41e-03 -1.32e-03   \n",
       "Min re${}_t$     -0.38        -0.43       -0.25     -0.14 -5.13e-02 -2.64e-02   \n",
       "Max re${}_t$     84.88         7.25        0.42      0.26  4.67e-02  2.46e-02   \n",
       "\n",
       "                0.6-0.8   0.8-0.9     0.9-1  \n",
       "Mean re${}_t$ -3.46e-04 -2.55e-03 -2.92e-03  \n",
       "Min re${}_t$  -2.25e-02 -1.48e-02 -1.16e-02  \n",
       "Max re${}_t$   1.98e-02  1.46e-02  6.58e-03  "
      ]
     },
     "execution_count": 186,
     "metadata": {},
     "output_type": "execute_result"
    }
   ],
   "source": [
    "stat_EP_0"
   ]
  },
  {
   "cell_type": "code",
   "execution_count": 115,
   "metadata": {},
   "outputs": [
    {
     "data": {
      "text/html": [
       "<div>\n",
       "<style scoped>\n",
       "    .dataframe tbody tr th:only-of-type {\n",
       "        vertical-align: middle;\n",
       "    }\n",
       "\n",
       "    .dataframe tbody tr th {\n",
       "        vertical-align: top;\n",
       "    }\n",
       "\n",
       "    .dataframe thead th {\n",
       "        text-align: right;\n",
       "    }\n",
       "</style>\n",
       "<table border=\"1\" class=\"dataframe\">\n",
       "  <thead>\n",
       "    <tr style=\"text-align: right;\">\n",
       "      <th></th>\n",
       "      <th>0-0.001</th>\n",
       "      <th>0.001-0.005</th>\n",
       "      <th>0.005-0.01</th>\n",
       "      <th>0.01-0.2</th>\n",
       "      <th>0.2-0.4</th>\n",
       "      <th>0.4-0.6</th>\n",
       "      <th>0.6-0.8</th>\n",
       "      <th>0.8-0.9</th>\n",
       "      <th>0.9-1</th>\n",
       "    </tr>\n",
       "  </thead>\n",
       "  <tbody>\n",
       "    <tr>\n",
       "      <th>Mean re${}_t$</th>\n",
       "      <td>133.85</td>\n",
       "      <td>0.17</td>\n",
       "      <td>-0.51</td>\n",
       "      <td>-0.73</td>\n",
       "      <td>-0.79</td>\n",
       "      <td>-0.80</td>\n",
       "      <td>-0.80</td>\n",
       "      <td>-0.80</td>\n",
       "      <td>-0.80</td>\n",
       "    </tr>\n",
       "    <tr>\n",
       "      <th>Min re${}_t$</th>\n",
       "      <td>-0.07</td>\n",
       "      <td>-0.63</td>\n",
       "      <td>-0.70</td>\n",
       "      <td>-0.81</td>\n",
       "      <td>-0.81</td>\n",
       "      <td>-0.80</td>\n",
       "      <td>-0.80</td>\n",
       "      <td>-0.80</td>\n",
       "      <td>-0.80</td>\n",
       "    </tr>\n",
       "    <tr>\n",
       "      <th>Max re${}_t$</th>\n",
       "      <td>60541.50</td>\n",
       "      <td>3.54</td>\n",
       "      <td>0.09</td>\n",
       "      <td>-0.34</td>\n",
       "      <td>-0.77</td>\n",
       "      <td>-0.79</td>\n",
       "      <td>-0.79</td>\n",
       "      <td>-0.79</td>\n",
       "      <td>-0.79</td>\n",
       "    </tr>\n",
       "  </tbody>\n",
       "</table>\n",
       "</div>"
      ],
      "text/plain": [
       "                0-0.001  0.001-0.005  0.005-0.01  0.01-0.2  0.2-0.4  0.4-0.6  \\\n",
       "Mean re${}_t$    133.85         0.17       -0.51     -0.73    -0.79    -0.80   \n",
       "Min re${}_t$      -0.07        -0.63       -0.70     -0.81    -0.81    -0.80   \n",
       "Max re${}_t$   60541.50         3.54        0.09     -0.34    -0.77    -0.79   \n",
       "\n",
       "               0.6-0.8  0.8-0.9  0.9-1  \n",
       "Mean re${}_t$    -0.80    -0.80  -0.80  \n",
       "Min re${}_t$     -0.80    -0.80  -0.80  \n",
       "Max re${}_t$     -0.79    -0.79  -0.79  "
      ]
     },
     "execution_count": 115,
     "metadata": {},
     "output_type": "execute_result"
    }
   ],
   "source": [
    "## examine results\n",
    "k = 0\n",
    "int_rate, A, B, c = sensi_lst[k][0],sensi_lst[k][1],sensi_lst[k][2],sensi_lst[k][3]\n",
    "\n",
    "# load corresponding targets\n",
    "with open(wd_sensis + r'\\setting_{}\\data_int={}_A={}_B={}_c={}.pkl'.format(k,int_rate,A,B,c), 'rb') as input:\n",
    "        cache = pickle.load(input)\n",
    "\n",
    "data_plain_train_sc, data_plain_test_sc = cache[0][0], cache[0][1]\n",
    "targets_train, targets_test = cache[1][0], cache[1][1]\n",
    "V_max = cache[3][1]\n",
    "\n",
    "\n",
    "# load individual models\n",
    "if os.path.isfile(wd_sensis+r'\\setting_{}\\model_0.h5'.format(k)):\n",
    "        # load model weights\n",
    "        for l in range(N_ensembles):\n",
    "            models_sensi[l].load_weights(wd_sensis+r'\\setting_{}\\model_{}.h5'.format(k,l))\n",
    "            \n",
    "            \n",
    "# ensemble\n",
    "ensemble_sensi = combine_models(input_layer=INPUT, n_ensembles= len(models_sensi), \n",
    "                                              load_weights= True, \n",
    "                                        weights_ensembles = multiple_models_get_weights(models_sensi), \n",
    "                                              scale = V_max,\n",
    "                                       LSTM_nodes= [n_output], dense_act_fct= 'tanh')\n",
    "\n",
    "\n",
    "# load statistics\n",
    "if os.path.isfile(wd_sensis +r'\\setting_{}'.format(k)+r'\\results.pkl'):\n",
    "    with open(wd_sensis +r'\\setting_{}'.format(k)+r'\\results.pkl', 'rb') as input:\n",
    "                statistic = pickle.load(input)\n",
    "            \n",
    "statistic[0]"
   ]
  },
  {
   "cell_type": "code",
   "execution_count": 132,
   "metadata": {},
   "outputs": [
    {
     "name": "stdout",
     "output_type": "stream",
     "text": [
      "70000/70000 [==============================] - 15s 218us/step\n",
      "[417.7507645071847, 4.358376218959263]\n",
      "70000/70000 [==============================] - 15s 209us/step\n",
      "[266.5360401297433, 3.4037506968906945]\n",
      "70000/70000 [==============================] - 14s 207us/step\n",
      "[476.5491499511719, 4.9171681938171385]\n",
      "70000/70000 [==============================] - 14s 207us/step\n",
      "[230.9946396109445, 3.00529126625061]\n",
      "70000/70000 [==============================] - 15s 212us/step\n",
      "[290.1125443158831, 3.7723869711739675]\n",
      "70000/70000 [==============================] - 29s 413us/step\n"
     ]
    },
    {
     "data": {
      "text/plain": [
       "[264.53186083199637, 3.097055588422503]"
      ]
     },
     "execution_count": 132,
     "metadata": {},
     "output_type": "execute_result"
    }
   ],
   "source": [
    "for i in range(5):\n",
    "    print(models_sensi[i].evaluate(data_plain_train_sc, targets_train))\n",
    "    \n",
    "ensemble_sensi.evaluate(data_plain_train_sc, targets_train)"
   ]
  },
  {
   "cell_type": "code",
   "execution_count": 133,
   "metadata": {},
   "outputs": [
    {
     "data": {
      "text/plain": [
       "(1109.932890911502, 6.441715849136368)"
      ]
     },
     "execution_count": 133,
     "metadata": {},
     "output_type": "execute_result"
    }
   ],
   "source": [
    "relate_loss(targets_train,0.05), relate_loss(targets_train,0.05, 'mae')"
   ]
  },
  {
   "cell_type": "code",
   "execution_count": 131,
   "metadata": {},
   "outputs": [
    {
     "data": {
      "text/plain": [
       "[<matplotlib.lines.Line2D at 0x1df373da518>]"
      ]
     },
     "execution_count": 131,
     "metadata": {},
     "output_type": "execute_result"
    },
    {
     "data": {
      "image/png": "[encoded data removed]",
      "text/plain": [
       "<Figure size 432x288 with 1 Axes>"
      ]
     },
     "metadata": {
      "needs_background": "light"
     },
     "output_type": "display_data"
    }
   ],
   "source": [
    "pos = 100\n",
    "for i in range(5):\n",
    "    plt.plot(models_sensi[i].predict(data_plain_train_sc[pos:pos+1,:,:])[0], color = 'grey', linestyle = '--')\n",
    "plt.plot(ensemble_sensi.predict(data_plain_train_sc[pos:pos+1,:,:])[0])\n",
    "plt.plot(targets_train[pos,:], 'r*')"
   ]
  },
  {
   "cell_type": "code",
   "execution_count": null,
   "metadata": {},
   "outputs": [],
   "source": []
  },
  {
   "cell_type": "code",
   "execution_count": null,
   "metadata": {},
   "outputs": [],
   "source": []
  },
  {
   "cell_type": "code",
   "execution_count": null,
   "metadata": {},
   "outputs": [],
   "source": []
  },
  {
   "cell_type": "code",
   "execution_count": 194,
   "metadata": {},
   "outputs": [
    {
     "name": "stdout",
     "output_type": "stream",
     "text": [
      "0.05 0.02 2.7000000000000004e-08 1.2\n"
     ]
    },
    {
     "data": {
      "text/html": [
       "<div>\n",
       "<style scoped>\n",
       "    .dataframe tbody tr th:only-of-type {\n",
       "        vertical-align: middle;\n",
       "    }\n",
       "\n",
       "    .dataframe tbody tr th {\n",
       "        vertical-align: top;\n",
       "    }\n",
       "\n",
       "    .dataframe thead th {\n",
       "        text-align: right;\n",
       "    }\n",
       "</style>\n",
       "<table border=\"1\" class=\"dataframe\">\n",
       "  <thead>\n",
       "    <tr style=\"text-align: right;\">\n",
       "      <th></th>\n",
       "      <th>0.001</th>\n",
       "      <th>0.005</th>\n",
       "      <th>0.01</th>\n",
       "      <th>0.2</th>\n",
       "      <th>0.4</th>\n",
       "      <th>0.6</th>\n",
       "      <th>0.8</th>\n",
       "      <th>0.9</th>\n",
       "      <th>1</th>\n",
       "    </tr>\n",
       "  </thead>\n",
       "  <tbody>\n",
       "    <tr>\n",
       "      <th>PV</th>\n",
       "      <td>776.52</td>\n",
       "      <td>3882.61</td>\n",
       "      <td>7765.21</td>\n",
       "      <td>155304.21</td>\n",
       "      <td>310608.43</td>\n",
       "      <td>465912.64</td>\n",
       "      <td>621216.86</td>\n",
       "      <td>6.99e+05</td>\n",
       "      <td>7.77e+05</td>\n",
       "    </tr>\n",
       "    <tr>\n",
       "      <th>[%]</th>\n",
       "      <td>0.37</td>\n",
       "      <td>0.17</td>\n",
       "      <td>0.08</td>\n",
       "      <td>0.28</td>\n",
       "      <td>0.05</td>\n",
       "      <td>0.03</td>\n",
       "      <td>0.02</td>\n",
       "      <td>6.23e-03</td>\n",
       "      <td>3.77e-03</td>\n",
       "    </tr>\n",
       "  </tbody>\n",
       "</table>\n",
       "</div>"
      ],
      "text/plain": [
       "      0.001    0.005     0.01        0.2        0.4        0.6        0.8  \\\n",
       "PV   776.52  3882.61  7765.21  155304.21  310608.43  465912.64  621216.86   \n",
       "[%]    0.37     0.17     0.08       0.28       0.05       0.03       0.02   \n",
       "\n",
       "          0.9         1  \n",
       "PV   6.99e+05  7.77e+05  \n",
       "[%]  6.23e-03  3.77e-03  "
      ]
     },
     "execution_count": 194,
     "metadata": {},
     "output_type": "execute_result"
    }
   ],
   "source": [
    "# check results\n",
    "count = 2\n",
    "if os.path.isfile(wd_sensis +r'\\setting_{}'.format(count)+r'\\results.pkl'):\n",
    "    with open(wd_sensis +r'\\setting_{}'.format(count)+r'\\results.pkl', 'rb') as input:\n",
    "                cache = pickle.load(input)\n",
    "print(cache[2],cache[3],cache[4],cache[5])           \n",
    "cache[1]"
   ]
  }
 ],
 "metadata": {
  "kernelspec": {
   "display_name": "Python 3",
   "language": "python",
   "name": "python3"
  }
 },
 "nbformat": 4,
 "nbformat_minor": 2
}
