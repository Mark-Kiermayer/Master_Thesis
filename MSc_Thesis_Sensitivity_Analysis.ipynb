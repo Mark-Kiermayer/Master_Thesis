{
 "cells": [
  {
   "cell_type": "markdown",
   "metadata": {},
   "source": [
    "# Section 0 - Import Tools"
   ]
  },
  {
   "cell_type": "markdown",
   "metadata": {},
   "source": [
    "## 0.1. Import Packages"
   ]
  },
  {
   "cell_type": "code",
   "execution_count": 1,
   "metadata": {},
   "outputs": [],
   "source": [
    "import pandas as pd\n",
    "import numpy as np\n",
    "import seaborn as sns\n",
    "# import for auto-suggestions for objects\n",
    "import pydot\n",
    "import pyreadline\n",
    "# import for sigmoid-fct.\n",
    "import scipy\n",
    "import scipy.special\n",
    "from scipy import stats\n",
    "from scipy.stats import gamma, truncnorm, describe\n",
    "import sklearn\n",
    "from sklearn import preprocessing, cluster\n",
    "from sklearn.preprocessing import minmax_scale\n",
    "from sklearn.model_selection import KFold, StratifiedKFold, GridSearchCV\n",
    "# import for plotting\n",
    "import matplotlib.pyplot as plt\n",
    "%matplotlib inline\n",
    "import random\n",
    "import time\n",
    "import decimal\n",
    "import json # to save history objects of keras models\n",
    "import pickle # to save general objects, e.g. K-Means Clustering Object\n",
    "import os"
   ]
  },
  {
   "cell_type": "code",
   "execution_count": 2,
   "metadata": {},
   "outputs": [
    {
     "name": "stderr",
     "output_type": "stream",
     "text": [
      "Using TensorFlow backend.\n"
     ]
    }
   ],
   "source": [
    "import tensorflow as tf\n",
    "import keras\n",
    "from keras import backend as K\n",
    "from tensorflow.keras import layers\n",
    "from keras.models import Sequential, Model, load_model\n",
    "from keras.optimizers import Adam, SGD, Adadelta\n",
    "from keras.layers import Dense, Flatten, Dropout, multiply, dot, Activation, ThresholdedReLU, RepeatVector, subtract, Reshape\n",
    "from keras.layers import RNN, SimpleRNN,GRU, LSTM,CuDNNLSTM, Reshape, Lambda, InputLayer, Input, BatchNormalization, Average, average\n",
    "from keras.layers import advanced_activations as adv_act\n",
    "from keras.callbacks import ModelCheckpoint, TensorBoard, EarlyStopping\n",
    "from keras.utils import plot_model, print_summary\n",
    "from keras.wrappers.scikit_learn import KerasClassifier, KerasRegressor\n",
    "import seaborn as sb\n",
    "import sobol_seq"
   ]
  },
  {
   "cell_type": "markdown",
   "metadata": {},
   "source": [
    "## 0.2. Import customized functions"
   ]
  },
  {
   "cell_type": "code",
   "execution_count": 3,
   "metadata": {},
   "outputs": [],
   "source": [
    "# Functions\n",
    "%run functions/actuarial_functions.ipynb\n",
    "%run functions/rnn_functions.ipynb\n",
    "%run functions/visualization_functions.ipynb\n",
    "%run functions/statistical_analysis_functions.ipynb\n",
    "%run functions/clustering.ipynb"
   ]
  },
  {
   "cell_type": "code",
   "execution_count": 4,
   "metadata": {},
   "outputs": [],
   "source": [
    "# Simulation of Data&Targets\n",
    "%run Data/data_part1_simulation_feature_space.ipynb\n",
    "%run Data/data_part2_calculation_targets.ipynb"
   ]
  },
  {
   "cell_type": "code",
   "execution_count": 5,
   "metadata": {},
   "outputs": [],
   "source": [
    "# Data Preparation\n",
    "%run Data/data_prep_General.ipynb\n",
    "%run Data/data_prep_RNN_data_transformation.ipynb"
   ]
  },
  {
   "cell_type": "code",
   "execution_count": 6,
   "metadata": {},
   "outputs": [],
   "source": [
    "# Single-dimensional data analysis\n",
    "%run data_analysis_single_dimension/models_1dim_FFN.ipynb"
   ]
  },
  {
   "cell_type": "markdown",
   "metadata": {},
   "source": [
    "# Section 1 - Global Parameters"
   ]
  },
  {
   "cell_type": "code",
   "execution_count": 7,
   "metadata": {},
   "outputs": [],
   "source": [
    "# Makeham mortality model\n",
    "A= 0.00022\n",
    "B=2.7*10**(-6)\n",
    "c=1.124\n",
    "int_rate = 0.05 # fixed for now\n",
    "#age_max = 131\n",
    "# Portfolio Details\n",
    "N_contracts = 100000 # adjustable\n",
    "input_used = ['age_start', 'Sum_ins', 'duration', 'age_of_contract']\n",
    "n_in = len(input_used)\n",
    "\n",
    "# Standard values of features for projections\n",
    "age_std = 40\n",
    "sum_std = 100000\n",
    "dur_std = 20\n",
    "aoc_std = 0\n",
    "\n",
    "Max_min = np.zeros([n_in,2])\n",
    "age_low, age_up = 25, 67\n",
    "sum_min, sum_max = 1000, 1000000\n",
    "dur_min, dur_max = 2, 40\n",
    "aoc_min, aoc_max = 0, dur_max-1\n",
    "\n",
    "# zero-padded output/ length of later targets\n",
    "n_output = dur_max +1\n",
    "\n",
    "# Matrix Version of previous upper/ lower bounds on features\n",
    "Max_min = np.array([age_low,age_up+dur_max,sum_min, sum_max, dur_min, dur_max, aoc_min, aoc_max], dtype = 'int').reshape(n_in,2)\n",
    "\n",
    "# Split ration training and test data\n",
    "ratio_tr_tst = 0.7\n",
    "N_train = int(ratio_tr_tst*N_contracts)\n",
    "\n",
    "# share of validation data\n",
    "val_share = 0.25\n",
    "\n",
    "# Default value for RNN-data replication\n",
    "matured_default_value = -5\n",
    "\n",
    "# current directory for saving issues\n",
    "wd_sensis = r\"C:\\Users\\mark.kiermayer\\Documents\\Python Scripts\\Master Thesis - Code\\checkpoints\\Sensitivities\"\n",
    "# dummy if saved models should be loaded (TRUE) or the all models should be recalculated\n",
    "dummy_load_saved_models = True\n",
    "\n",
    "# Dataframe representation\n",
    "pd.set_option('precision', 2)"
   ]
  },
  {
   "cell_type": "code",
   "execution_count": 8,
   "metadata": {},
   "outputs": [],
   "source": [
    "# Sensitivity Analysis for following values\n",
    "sensi_lst = [[0.02,0.00022,2.7*10**(-6),1.124],[0.005,0.00022,2.7*10**(-6),1.124],\n",
    "             [0.05,0.02,2.7*10**(-8),1.2], [0.05,0.02,2.7*10**(-5),1.1]]"
   ]
  },
  {
   "cell_type": "code",
   "execution_count": 9,
   "metadata": {
    "scrolled": false
   },
   "outputs": [
    {
     "data": {
      "text/html": [
       "<div>\n",
       "<style scoped>\n",
       "    .dataframe tbody tr th:only-of-type {\n",
       "        vertical-align: middle;\n",
       "    }\n",
       "\n",
       "    .dataframe tbody tr th {\n",
       "        vertical-align: top;\n",
       "    }\n",
       "\n",
       "    .dataframe thead th {\n",
       "        text-align: right;\n",
       "    }\n",
       "</style>\n",
       "<table border=\"1\" class=\"dataframe\">\n",
       "  <thead>\n",
       "    <tr style=\"text-align: right;\">\n",
       "      <th></th>\n",
       "      <th>i</th>\n",
       "      <th>A</th>\n",
       "      <th>B</th>\n",
       "      <th>c</th>\n",
       "    </tr>\n",
       "  </thead>\n",
       "  <tbody>\n",
       "    <tr>\n",
       "      <th>Scenario 1</th>\n",
       "      <td>2.00e-02</td>\n",
       "      <td>2.20e-04</td>\n",
       "      <td>2.70e-06</td>\n",
       "      <td>1.12</td>\n",
       "    </tr>\n",
       "    <tr>\n",
       "      <th>Scenario 2</th>\n",
       "      <td>5.00e-03</td>\n",
       "      <td>2.20e-04</td>\n",
       "      <td>2.70e-06</td>\n",
       "      <td>1.12</td>\n",
       "    </tr>\n",
       "    <tr>\n",
       "      <th>Scenario 3</th>\n",
       "      <td>5.00e-02</td>\n",
       "      <td>2.00e-02</td>\n",
       "      <td>2.70e-08</td>\n",
       "      <td>1.20</td>\n",
       "    </tr>\n",
       "    <tr>\n",
       "      <th>Scenario 4</th>\n",
       "      <td>5.00e-02</td>\n",
       "      <td>2.00e-02</td>\n",
       "      <td>2.70e-05</td>\n",
       "      <td>1.10</td>\n",
       "    </tr>\n",
       "  </tbody>\n",
       "</table>\n",
       "</div>"
      ],
      "text/plain": [
       "                   i         A         B     c\n",
       "Scenario 1  2.00e-02  2.20e-04  2.70e-06  1.12\n",
       "Scenario 2  5.00e-03  2.20e-04  2.70e-06  1.12\n",
       "Scenario 3  5.00e-02  2.00e-02  2.70e-08  1.20\n",
       "Scenario 4  5.00e-02  2.00e-02  2.70e-05  1.10"
      ]
     },
     "execution_count": 9,
     "metadata": {},
     "output_type": "execute_result"
    }
   ],
   "source": [
    "table_sensi = pd.DataFrame(data = None, index = None, columns=['i', 'A','B','c'])\n",
    "for i in range(len(sensi_lst)):\n",
    "    table_sensi.loc['Scenario {}'.format(i+1)]=sensi_lst[i]\n",
    "    \n",
    "table_sensi"
   ]
  },
  {
   "cell_type": "code",
   "execution_count": 22,
   "metadata": {},
   "outputs": [],
   "source": [
    "# Create Statistics for all Scenarios\n",
    "for k in range(len(sensi_lst)):\n",
    "    int_rate = sensi_lst[k][0]\n",
    "    A = sensi_lst[k][1]\n",
    "    B = sensi_lst[k][2]\n",
    "    c = sensi_lst[k][3]\n",
    "\n",
    "    # Section 2 - Data\n",
    "\n",
    "    ## 2.1. Simulation of feature variables\n",
    "\n",
    "    random.seed(42)\n",
    "    data_part1 = data_simulation_features(A, B, c, N_contracts, Max_min)\n",
    "\n",
    "    # data for full dimension\n",
    "    data = data_part1[0]\n",
    "\n",
    "    ## 2.2. Calculation of Target Values\n",
    "\n",
    "    # Create Targets\n",
    "    targets = np.zeros([N_contracts,dur_max +1] )\n",
    "\n",
    "    for i in range(N_contracts):\n",
    "    # Targets of full dimensional feature space\n",
    "        targets[i,0:max(data[i,2]-data[i,3]+1,0)] = get_termlife_reserve_profile(age_curr = data[i,0], \n",
    "                                                             Sum_ins = data[i,1],duration= data[i,2],  \n",
    "                                                             interest = int_rate, \n",
    "                                                             age_of_contract = data[i,3], \n",
    "                                                             option_past=False, A=A,B=B,c=c)\n",
    "\n",
    "\n",
    "    ## 2.3. Data Preparation\n",
    "\n",
    "    ### 2.3.1. Scaling\n",
    "\n",
    "    ## Parameters for scaling procedure of targets\n",
    "    V_max = get_termlife_reserve_profile(age_curr=age_up, Sum_ins = sum_max, duration=dur_max, \n",
    "                                                interest = int_rate).max()\n",
    "    V_min = get_termlife_reserve_profile(age_curr=age_low, Sum_ins = sum_min, duration=dur_min, \n",
    "                                         interest = int_rate).min()\n",
    "    data_sc = data_prep_feautures_scale(data, Max_min, option = 'conditional', option_1dim = False)\n",
    "    data_train_sc, data_test_sc = data_prep_split(data_sc, ratio_tr_tst)\n",
    "\n",
    "    ### 2.3.2. Split (raw and scaled) Data in Training and Test Set\n",
    "\n",
    "    targets_train, targets_test= data_prep_split(targets,ratio_tr_tst)\n",
    "\n",
    "\n",
    "    # Transform data to plain, 3-dim input without default value\n",
    "\n",
    "    data_plain_sc = data_full_transform_test(data = data_sc, n_aim = n_output, input_type= 'plain')\n",
    "    data_plain_train_sc = data_full_transform_test(data = data_train_sc, n_aim = n_output, \n",
    "                                                   input_type= 'plain')\n",
    "    data_plain_test_sc = data_full_transform_test(data = data_test_sc, n_aim = n_output, \n",
    "                                                  input_type= 'plain')\n",
    "\n",
    "    # save data\n",
    "    cache = [[data_plain_train_sc, data_plain_test_sc], [targets_train,targets_test], \n",
    "             [int_rate,A,B,c], [V_min,V_max]]\n",
    "    with open(wd_sensis+r'\\setting_{}'.format(k)+r'\\data_int={}_A={}_B={}_c={}.pkl'.format(int_rate,A,B,c),\n",
    "              'wb') as output:\n",
    "        pickle.dump(cache, output, pickle.HIGHEST_PROTOCOL)\n",
    "\n"
   ]
  },
  {
   "cell_type": "markdown",
   "metadata": {},
   "source": [
    "# Section 3: Reserve Replication, Single Contract Basis"
   ]
  },
  {
   "cell_type": "markdown",
   "metadata": {},
   "source": [
    "## 3.3. Ensemble Method for Quantitative Models"
   ]
  },
  {
   "cell_type": "markdown",
   "metadata": {},
   "source": [
    "### Model Input: 'Plain'"
   ]
  },
  {
   "cell_type": "code",
   "execution_count": 10,
   "metadata": {},
   "outputs": [],
   "source": [
    "N_epochs_ensemble = 300\n",
    "n_timesteps, n_features, n_output = dur_max+1,n_in, dur_max+1\n",
    "INPUT = Input(shape=(n_timesteps,n_features), name = 'Input')\n",
    "dummy_load_saved_models_ensembles=True\n",
    "N_ensembles = 5"
   ]
  },
  {
   "cell_type": "code",
   "execution_count": 11,
   "metadata": {
    "scrolled": true
   },
   "outputs": [
    {
     "name": "stdout",
     "output_type": "stream",
     "text": [
      "WARNING:tensorflow:From C:\\Users\\mark.kiermayer\\Anaconda\\lib\\site-packages\\tensorflow\\python\\framework\\op_def_library.py:263: colocate_with (from tensorflow.python.framework.ops) is deprecated and will be removed in a future version.\n",
      "Instructions for updating:\n",
      "Colocations handled automatically by placer.\n",
      "0\n",
      "1\n",
      "2\n",
      "3\n"
     ]
    }
   ],
   "source": [
    "# Test all scenarios\n",
    "for k in range(len(sensi_lst)):\n",
    "    int_rate = sensi_lst[k][0]\n",
    "    A = sensi_lst[k][1]\n",
    "    B = sensi_lst[k][2]\n",
    "    c = sensi_lst[k][3]\n",
    "\n",
    "    optimal_weights_loaded = False\n",
    "    \n",
    "    # import file\n",
    "    with open(wd_sensis + r'\\setting_{}\\data_int={}_A={}_B={}_c={}.pkl'.format(k,int_rate,A,B,c), 'rb') as input:\n",
    "        cache = pickle.load(input)\n",
    "    \n",
    "    # extract data\n",
    "    data_plain_train_sc, data_plain_test_sc = cache[0][0], cache[0][1]\n",
    "    targets_train, targets_test = cache[1][0], cache[1][1]\n",
    "    V_max = cache[3][1]\n",
    "\n",
    "    # Create Multiple RNNs with identical configuration\n",
    "    models_sensi = create_multiple_rnn_models(number = N_ensembles, model_input = INPUT,\n",
    "                                              nodes= [n_output], \n",
    "                                        n_output=n_output, final_dense_layer = True, \n",
    "                                              dense_act_fct= 'tanh',\n",
    "                                        optimizer_type='adam',\n",
    "                                        loss_type='mse', metric_type='mae', dropout_option=False, \n",
    "                                        dropout_share=[0.2,0.2], lambda_layer = True, \n",
    "                                              lambda_scale =V_max, \n",
    "                                        log_scale=True)\n",
    "\n",
    "    # Either load existing parameters\n",
    "    if os.path.isfile(wd_sensis+r'\\setting_{}\\model_0.h5'.format(k))&dummy_load_saved_models_ensembles:\n",
    "        # load model weights\n",
    "        for l in range(N_ensembles):\n",
    "            models_sensi[l].load_weights(wd_sensis+r'\\setting_{}\\model_{}.h5'.format(k,l))\n",
    "        optimal_weights_loaded = True\n",
    "\n",
    "    # Or train model    \n",
    "    else:\n",
    "        models_sensi, hist_sensi = train_individual_ensembles(models_sensi, data_plain_train_sc, \n",
    "                                                              targets_train, \n",
    "                                                    n_epochs= N_epochs_ensemble, \n",
    "                                                    path =wd_sensis +r'\\setting_{}'.format(k))\n",
    "        # Save Model (and History) is integrated in function 'train_individual_ensembles'\n",
    "\n",
    "    # Unless optimal weights have been imported a statistical analysis in meaningless\n",
    "    if optimal_weights_loaded == True: \n",
    "        print(k)\n",
    "        # combine models to a single model using an ensemble approach (no qualitative Model included)\n",
    "        ensemble_sensi = combine_models(input_layer=INPUT, n_ensembles= len(models_sensi), \n",
    "                                              load_weights= True, \n",
    "                                        weights_ensembles = multiple_models_get_weights(models_sensi), \n",
    "                                              scale = V_max,\n",
    "                                       LSTM_nodes= [n_output], dense_act_fct= 'tanh')\n",
    "\n",
    "\n",
    "\n",
    "        #Statistics, using $e_t$\n",
    "\n",
    "        # Relate following relative values to absolute Policy Values\n",
    "        interval_lst = [0,0.001, 0.005, 0.01,0.2,0.4,0.6,0.8,0.9,1]\n",
    "        PV_interval =  V_max*np.asarray([0.001, 0.005, 0.01,0.2,0.4,0.6,0.8,0.9,1])\n",
    "        df_columns = [None]*(len(interval_lst)-1)\n",
    "        for i in range(1,len(interval_lst)):\n",
    "            df_columns[i-1] = '{}'.format(interval_lst[i])\n",
    "        df = pd.DataFrame(data = None, index = None, columns = df_columns)\n",
    "        df.loc['PV'] = PV_interval\n",
    "        # determine distribution of PVs\n",
    "        targets_max = targets_test.max(axis=1)\n",
    "        dist_PV = [None]*len(PV_interval)\n",
    "        for i in range(len(PV_interval)):\n",
    "            dist_PV[i] = ((targets_max>interval_lst[i]*V_max)&(targets_max<=interval_lst[i+1]*V_max)).sum()/targets_max.shape[0]\n",
    "        \n",
    "        df.loc['[%]'] = dist_PV\n",
    "\n",
    "        stat_EP_0 = model_examine_indivual_fit(model = ensemble_sensi, data = data_plain_test_sc, \n",
    "                                   targets = targets_test, output_option = 'statistic', PV_max= V_max)\n",
    "\n",
    "        ## save results\n",
    "        with open(wd_sensis +r'\\setting_{}'.format(k)+r'\\results.pkl', 'wb') as output:\n",
    "            pickle.dump([stat_EP_0,df, int_rate,A,B,c], output, pickle.HIGHEST_PROTOCOL)\n"
   ]
  },
  {
   "cell_type": "code",
   "execution_count": 16,
   "metadata": {},
   "outputs": [
    {
     "name": "stdout",
     "output_type": "stream",
     "text": [
      "0.05 0.02 2.7000000000000004e-08 1.2\n"
     ]
    },
    {
     "data": {
      "text/html": [
       "<div>\n",
       "<style scoped>\n",
       "    .dataframe tbody tr th:only-of-type {\n",
       "        vertical-align: middle;\n",
       "    }\n",
       "\n",
       "    .dataframe tbody tr th {\n",
       "        vertical-align: top;\n",
       "    }\n",
       "\n",
       "    .dataframe thead th {\n",
       "        text-align: right;\n",
       "    }\n",
       "</style>\n",
       "<table border=\"1\" class=\"dataframe\">\n",
       "  <thead>\n",
       "    <tr style=\"text-align: right;\">\n",
       "      <th></th>\n",
       "      <th>0-0.001</th>\n",
       "      <th>0.001-0.005</th>\n",
       "      <th>0.005-0.01</th>\n",
       "      <th>0.01-0.2</th>\n",
       "      <th>0.2-0.4</th>\n",
       "      <th>0.4-0.6</th>\n",
       "      <th>0.6-0.8</th>\n",
       "      <th>0.8-0.9</th>\n",
       "      <th>0.9-1</th>\n",
       "    </tr>\n",
       "  </thead>\n",
       "  <tbody>\n",
       "    <tr>\n",
       "      <th>mean re${}_t$</th>\n",
       "      <td>11.01</td>\n",
       "      <td>0.11</td>\n",
       "      <td>-1.06e-03</td>\n",
       "      <td>-0.01</td>\n",
       "      <td>-5.01e-03</td>\n",
       "      <td>-2.66e-03</td>\n",
       "      <td>-2.32e-03</td>\n",
       "      <td>-5.55e-03</td>\n",
       "      <td>-3.13e-02</td>\n",
       "    </tr>\n",
       "    <tr>\n",
       "      <th>min re${}_t$</th>\n",
       "      <td>-0.15</td>\n",
       "      <td>-0.19</td>\n",
       "      <td>-1.46e-01</td>\n",
       "      <td>-0.30</td>\n",
       "      <td>-3.64e-02</td>\n",
       "      <td>-2.89e-02</td>\n",
       "      <td>-5.30e-02</td>\n",
       "      <td>-1.07e-01</td>\n",
       "      <td>-1.21e-01</td>\n",
       "    </tr>\n",
       "    <tr>\n",
       "      <th>max re${}_t$</th>\n",
       "      <td>3762.91</td>\n",
       "      <td>7.47</td>\n",
       "      <td>1.06e+00</td>\n",
       "      <td>0.30</td>\n",
       "      <td>5.93e-02</td>\n",
       "      <td>4.12e-02</td>\n",
       "      <td>3.60e-02</td>\n",
       "      <td>2.62e-02</td>\n",
       "      <td>1.72e-03</td>\n",
       "    </tr>\n",
       "  </tbody>\n",
       "</table>\n",
       "</div>"
      ],
      "text/plain": [
       "               0-0.001  0.001-0.005  0.005-0.01  0.01-0.2   0.2-0.4   0.4-0.6  \\\n",
       "mean re${}_t$    11.01         0.11   -1.06e-03     -0.01 -5.01e-03 -2.66e-03   \n",
       "min re${}_t$     -0.15        -0.19   -1.46e-01     -0.30 -3.64e-02 -2.89e-02   \n",
       "max re${}_t$   3762.91         7.47    1.06e+00      0.30  5.93e-02  4.12e-02   \n",
       "\n",
       "                0.6-0.8   0.8-0.9     0.9-1  \n",
       "mean re${}_t$ -2.32e-03 -5.55e-03 -3.13e-02  \n",
       "min re${}_t$  -5.30e-02 -1.07e-01 -1.21e-01  \n",
       "max re${}_t$   3.60e-02  2.62e-02  1.72e-03  "
      ]
     },
     "execution_count": 16,
     "metadata": {},
     "output_type": "execute_result"
    }
   ],
   "source": [
    "# Print individual result [count]\n",
    "count = 2\n",
    "if os.path.isfile(wd_sensis +r'\\setting_{}'.format(count)+r'\\results.pkl'):\n",
    "    with open(wd_sensis +r'\\setting_{}'.format(count)+r'\\results.pkl', 'rb') as input:\n",
    "                cache = pickle.load(input)\n",
    "print(cache[2],cache[3],cache[4],cache[5])           \n",
    "cache[0]"
   ]
  },
  {
   "cell_type": "code",
   "execution_count": 12,
   "metadata": {},
   "outputs": [],
   "source": [
    "# Visualize Effect of Scenarios on Policy Values\n",
    "ensemble_sensi_collection = [None]*len(sensi_lst)\n",
    "targets_sensi_collection = [None]*len(sensi_lst)\n",
    "data_sensi_collection = [None]*len(sensi_lst)\n",
    "for k in range(len(sensi_lst)):\n",
    "    # load sub-models\n",
    "    if os.path.isfile(wd_sensis+r'\\setting_{}\\model_0.h5'.format(k)):\n",
    "            # load model weights\n",
    "            for l in range(N_ensembles):\n",
    "                models_sensi[l].load_weights(wd_sensis+r'\\setting_{}\\model_{}.h5'.format(k,l))\n",
    "            optimal_weights_loaded = True\n",
    "    # create combined model\n",
    "    ensemble_sensi_collection[k] = combine_models(input_layer=INPUT, n_ensembles= len(models_sensi), \n",
    "                                              load_weights= True, \n",
    "                                        weights_ensembles = multiple_models_get_weights(models_sensi), \n",
    "                                              scale = V_max,\n",
    "                                       LSTM_nodes= [n_output], dense_act_fct= 'tanh')\n",
    "    # Save targets\n",
    "    int_rate = sensi_lst[k][0]\n",
    "    A = sensi_lst[k][1]\n",
    "    B = sensi_lst[k][2]\n",
    "    c = sensi_lst[k][3]\n",
    "\n",
    "    optimal_weights_loaded = False\n",
    "    \n",
    "    # import file\n",
    "    with open(wd_sensis + r'\\setting_{}\\data_int={}_A={}_B={}_c={}.pkl'.format(k,int_rate,A,B,c), 'rb') as input:\n",
    "        cache = pickle.load(input)"
   ]
  },
  {
   "cell_type": "code",
   "execution_count": 13,
   "metadata": {},
   "outputs": [],
   "source": [
    "# Select individual contract to visualize\n",
    "x = np.array([40,500000,40,10]).reshape((1,4))\n",
    "x_sc = data_prep_feautures_scale(x, Max_min, option = 'conditional')\n",
    "x_plain_sc = data_full_transform_test(x_sc[0], n_aim=n_output, input_type= 'plain')\n",
    "\n",
    "targets_sensi = np.zeros(shape=(len(sensi_lst),n_output))\n",
    "for k in range(len(sensi_lst)):\n",
    "    targets_sensi[k,0:31] = get_termlife_reserve_profile(age_curr = x[0][0], Sum_ins=x[0][1], \n",
    "                                                         duration = x[0][2], interest = sensi_lst[k][0], \n",
    "                                                         age_of_contract= x[0][3], A= sensi_lst[k][1], \n",
    "                                                         B= sensi_lst[k][2], c= sensi_lst[k][3], \n",
    "                                                         option_past=False)"
   ]
  },
  {
   "cell_type": "code",
   "execution_count": 14,
   "metadata": {},
   "outputs": [
    {
     "data": {
      "image/png": "[encoded data removed]",
      "text/plain": [
       "<Figure size 432x288 with 1 Axes>"
      ]
     },
     "metadata": {
      "needs_background": "light"
     },
     "output_type": "display_data"
    }
   ],
   "source": [
    "color_lst = ['red', 'green', 'blue', 'orange']\n",
    "for k in range(len(sensi_lst)):\n",
    "    plt.plot(targets_sensi[k,:], color = color_lst[k], linestyle = '', marker = '*', label = 'Scenario {}'.format(k+1))\n",
    "    plt.plot(ensemble_sensi_collection[k].predict(x_plain_sc)[0], color = color_lst[k], linestyle = '--')\n",
    "\n",
    "plt.xlabel('Time, t', fontsize = 'large')\n",
    "plt.ylabel('PV at time $t$', fontsize = 'large')\n",
    "plt.legend()\n",
    "plt.show()"
   ]
  },
  {
   "cell_type": "code",
   "execution_count": 17,
   "metadata": {},
   "outputs": [
    {
     "data": {
      "image/png": "[encoded data removed]",
      "text/plain": [
       "<Figure size 432x288 with 1 Axes>"
      ]
     },
     "metadata": {
      "needs_background": "light"
     },
     "output_type": "display_data"
    }
   ],
   "source": [
    "## Illustrate respective structure of mortality hazard\n",
    "age_grid = np.linspace(start = 0, stop = 130, num = 131)\n",
    "for k in range(len(sensi_lst)):\n",
    "    A = sensi_lst[k][1]\n",
    "    B = sensi_lst[k][2]\n",
    "    c = sensi_lst[k][3]\n",
    "    susm_val = 1-np.exp(-A-B/np.log(c)*c**age_grid*(c-1))\n",
    "    if k != 1:\n",
    "        if k==0:\n",
    "            plt.plot(age_grid[30:70], susm_val[30:70], color = color_lst[k], label = 'Scenarios 1-2')\n",
    "        else:\n",
    "            plt.plot(age_grid[30:70], susm_val[30:70], color = color_lst[k], label = 'Scenario {}'.format(k+1))\n",
    "plt.xlabel('Age, $x_1$', fontsize = 'large')\n",
    "plt.ylabel(r'${}_1 q_x$', fontsize = 'large')\n",
    "plt.legend()\n",
    "#plt.yscale('log')\n",
    "plt.show()"
   ]
  },
  {
   "cell_type": "code",
   "execution_count": 15,
   "metadata": {},
   "outputs": [
    {
     "data": {
      "image/png": "[encoded data removed]",
      "text/plain": [
       "<Figure size 432x288 with 1 Axes>"
      ]
     },
     "metadata": {
      "needs_background": "light"
     },
     "output_type": "display_data"
    }
   ],
   "source": [
    "# Illustration without Zoom\n",
    "age_grid = np.linspace(start = 0, stop = 130, num = 131)\n",
    "for k in range(len(sensi_lst)):\n",
    "    A = sensi_lst[k][1]\n",
    "    B = sensi_lst[k][2]\n",
    "    c = sensi_lst[k][3]\n",
    "    susm_val = 1-np.exp(-A-B/np.log(c)*c**age_grid*(c-1))\n",
    "    if k != 1:\n",
    "        if k==0:\n",
    "            plt.plot(age_grid, susm_val, color = color_lst[k], label = 'Scenarios 1-2')\n",
    "        else:\n",
    "            plt.plot(age_grid, susm_val, color = color_lst[k], label = 'Scenario {}'.format(k+1))\n",
    "plt.xlabel('Age, $x_1$', fontsize = 'large')\n",
    "plt.ylabel(r'${}_1 q_x$', fontsize = 'large')\n",
    "plt.legend()\n",
    "plt.yscale('log')\n",
    "plt.show()"
   ]
  }
 ],
 "metadata": {
  "kernelspec": {
   "display_name": "Python 3",
   "language": "python",
   "name": "python3"
  },
  "language_info": {
   "codemirror_mode": {
    "name": "ipython",
    "version": 3
   },
   "file_extension": ".py",
   "mimetype": "text/x-python",
   "name": "python",
   "nbconvert_exporter": "python",
   "pygments_lexer": "ipython3",
   "version": "3.6.8"
  }
 },
 "nbformat": 4,
 "nbformat_minor": 2
}
