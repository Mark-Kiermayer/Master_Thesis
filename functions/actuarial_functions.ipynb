{
 "cells": [
  {
   "cell_type": "markdown",
   "metadata": {},
   "source": [
    "# Function Setup"
   ]
  },
  {
   "cell_type": "markdown",
   "metadata": {},
   "source": [
    "### 1.) Classical Life Insurance Calculation"
   ]
  },
  {
   "cell_type": "code",
   "execution_count": 2,
   "metadata": {},
   "outputs": [],
   "source": [
    "# Calculate annuity of term life insurance\n",
    "def get_termlife_annuity(age, duration, interest, A= 0.00022, B=2.7*10**(-6), c=1.124):\n",
    "    \n",
    "    v = 1/(1+interest)\n",
    "    ann = 0\n",
    "    for k in range(duration):\n",
    "        ann+= v**k*np.exp(-A*k-B/np.log(c)*c**(age)*(c**k-1))                  \n",
    "    \n",
    "    return ann"
   ]
  },
  {
   "cell_type": "code",
   "execution_count": 3,
   "metadata": {},
   "outputs": [],
   "source": [
    "# Calculate apv of benefits for term life insurance\n",
    "def get_termlife_APV_ben(age, duration, interest, A= 0.00022, B=2.7*10**(-6), c=1.124):\n",
    "    \n",
    "    v = 1/(1+interest)\n",
    "    apv = 0\n",
    "    for k in range(duration):\n",
    "        apv += v**(k+1)*np.exp(-A*k-B/np.log(c)*c**(age)*(c**k-1))*(1-np.exp(-A-B/np.log(c)*c**(age+k)*(c-1)))\n",
    "    \n",
    "    return apv"
   ]
  },
  {
   "cell_type": "code",
   "execution_count": 4,
   "metadata": {},
   "outputs": [],
   "source": [
    "# Calculate premium for term life insurance\n",
    "def get_termlife_premium(age_init,Sum_ins,duration,  interest,  A= 0.00022, B=2.7*10**(-6), c=1.124):\n",
    "    \n",
    "    return Sum_ins*get_termlife_APV_ben(age_init, duration, interest, A, B, c)/get_termlife_annuity(age_init, duration, interest, A, B, c)"
   ]
  },
  {
   "cell_type": "code",
   "execution_count": 5,
   "metadata": {},
   "outputs": [],
   "source": [
    "# Calculate current Policy value of term life insurance contract\n",
    "def get_termlife_reserve(age_curr, Sum_ins, duration,  interest,age_of_contract=0, A= 0.00022, B=2.7*10**(-6), c=1.124):\n",
    "    age_init = age_curr-age_of_contract\n",
    "    prem = get_termlife_premium(age_init,Sum_ins, duration, interest, A,B,c)\n",
    "    apv_prem = get_termlife_annuity(age_curr, duration-age_of_contract, interest, A,B,c)\n",
    "    apv_ben = get_termlife_APV_ben(age_curr, duration-age_of_contract, interest, A,B,c)\n",
    "    \n",
    "    return Sum_ins*apv_ben -prem*apv_prem "
   ]
  },
  {
   "cell_type": "code",
   "execution_count": 2,
   "metadata": {},
   "outputs": [],
   "source": [
    "# Calculate Policy values up to maturity of term life insurance contract\n",
    "# Potentially even including the past policy values, starting at the start of the contract\n",
    "def get_termlife_reserve_profile(age_curr, Sum_ins, duration, interest,age_of_contract = 0,  A= 0.00022, \n",
    "                                 B=2.7*10**(-6), c=1.124, option_past = True, age_limit = 120):\n",
    "    \n",
    "    age_init = age_curr-age_of_contract\n",
    "    premium = get_termlife_premium(age_init, Sum_ins,duration, interest, A,B,c)\n",
    "    reserve = np.zeros(duration+1)\n",
    "    \n",
    "    # No expenses so far\n",
    "    e_ann = 0\n",
    "    e_init = 0\n",
    "    # No claims-related expenses\n",
    "    E_claim = 0\n",
    "    reserve[0] = - e_init\n",
    "    reserve[-1] = 0\n",
    "    for k in range(duration-1): # Exclude value of reserve at maturity of contract (set 0, to avoid inaccuracy due to rounding errors)\n",
    "        if age_init+k < age_limit:\n",
    "            prob_live = np.exp(-A-B/np.log(c)*c**(age_init+k)*(c-1))# at age x+k\n",
    "            reserve[k+1] =((reserve[k]+premium-e_ann)*(1+interest) - (Sum_ins+E_claim)*(1-prob_live))/prob_live\n",
    "        else:\n",
    "            #reserve[k+1] = Sum_ins/(1+interest)+(e_ann+e_init)/(1+interest)-premium*1\n",
    "            reserve[k+1] = (Sum_ins+(e_ann+e_init))*get_termlife_APV_ben(age_init+k,duration,interest)-premium*get_termlife_annuity(age_init+k, duration, interest)\n",
    "        pass\n",
    "    \n",
    "    \n",
    "    if option_past==False:\n",
    "        if age_of_contract <= duration:\n",
    "            reserve = reserve[age_of_contract:]\n",
    "        else:\n",
    "            reserve = 0\n",
    "\n",
    "    return reserve   "
   ]
  }
 ],
 "metadata": {
  "kernelspec": {
   "display_name": "Python 3",
   "language": "python",
   "name": "python3"
  },
  "language_info": {
   "codemirror_mode": {
    "name": "ipython",
    "version": 3
   },
   "file_extension": ".py",
   "mimetype": "text/x-python",
   "name": "python",
   "nbconvert_exporter": "python",
   "pygments_lexer": "ipython3",
   "version": "3.6.8"
  }
 },
 "nbformat": 4,
 "nbformat_minor": 2
}
